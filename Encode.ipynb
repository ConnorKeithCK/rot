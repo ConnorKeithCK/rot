{
 "cells": [
  {
   "cell_type": "code",
   "execution_count": 111,
   "metadata": {
    "scrolled": true
   },
   "outputs": [
    {
     "name": "stdout",
     "output_type": "stream",
     "text": [
      "Data is like people, interrogate it hard enough and it will tell you whatever you want to hear.\n"
     ]
    }
   ],
   "source": [
    "lowercase = ['a', 'b', 'c', 'd', 'e', 'f', 'g', 'h',\n",
    "             'i', 'j', 'k', 'l', 'm', 'n', 'o', 'p',\n",
    "             'q', 'r', 's', 't', 'u', 'v', 'w', 'x',\n",
    "             'y', 'z']\n",
    "\n",
    "uppercase = ['A', 'B', 'C', 'D', 'E', 'F', 'G', 'H',\n",
    "             'I', 'J', 'K', 'L', 'M', 'N', 'O', 'P',\n",
    "             'Q', 'R', 'S', 'T', 'U', 'V', 'W', 'X',\n",
    "             'Y', 'Z']\n",
    "\n",
    "keys = [0,1,2,3,4,5,6,\n",
    "           7,8,9,10,11,12,\n",
    "           13,14,15,16,17,18,\n",
    "           19,20,21,22,23,24,25]\n",
    "\n",
    "# key: number of positions to move\n",
    "# string: string to encode\n",
    "def encode_rot(string, key):\n",
    "    encodedString = []\n",
    "        # when the key is larger than the length of the alphabet, prevent index errors \n",
    "    \n",
    "    for c in string:\n",
    "        if not c.isalpha():\n",
    "            encodedString.append(c)\n",
    "            continue\n",
    "        if c in lowercase:\n",
    "            encodedString.append(lowercase[(lowercase.index(c) + key) % 26])\n",
    "        else:\n",
    "            encodedString.append(uppercase[(uppercase.index(c) + key) % 26])\n",
    "            \n",
    "    return encodedString\n",
    "            \n",
    "#encode_rot('Machine CAN learn 2 !!!', 28)\n",
    "\n",
    "    \n",
    "    \n",
    "def decode_rot(string):\n",
    "    dictonary = open('dictionary.txt', 'r')\n",
    "    dictionaryWords = dictonary.read().split('\\n')\n",
    "    finalKey = 0\n",
    "    keyTest = []\n",
    "    decodedText = \"\"\n",
    "    \n",
    "    for k in keys:\n",
    "        keyTemp = \"\"\n",
    "        for c in string:\n",
    "            if not c.isalpha():\n",
    "                keyTemp += c\n",
    "                continue\n",
    "            if c in lowercase:\n",
    "                keyTemp += lowercase[lowercase.index(c) - k]\n",
    "            if c in uppercase:\n",
    "                keyTemp += uppercase[uppercase.index(c) - k]\n",
    "        keyTest.append(keyTemp)\n",
    "        \n",
    "    \n",
    "    for test in keyTest:\n",
    "        foundWords = 0\n",
    "        words = test.split(\" \")\n",
    "        for word in words:\n",
    "            if word in dictionaryWords:\n",
    "                foundWords += 1\n",
    "                \n",
    "        if foundWords >= finalKey:\n",
    "            finalKey = foundWords\n",
    "            \n",
    "    print(keyTest[finalKey + 1])\n",
    "    \n",
    "            \n",
    "decode_rot(\"Tqjq yi byau fuefbu, ydjuhhewqju yj xqht udekwx qdt yj mybb jubb oek mxqjuluh oek mqdj je xuqh.\")\n",
    "    "
   ]
  },
  {
   "cell_type": "code",
   "execution_count": null,
   "metadata": {},
   "outputs": [],
   "source": []
  },
  {
   "cell_type": "code",
   "execution_count": null,
   "metadata": {},
   "outputs": [],
   "source": []
  }
 ],
 "metadata": {
  "kernelspec": {
   "display_name": "Python 3",
   "language": "python",
   "name": "python3"
  },
  "language_info": {
   "codemirror_mode": {
    "name": "ipython",
    "version": 3
   },
   "file_extension": ".py",
   "mimetype": "text/x-python",
   "name": "python",
   "nbconvert_exporter": "python",
   "pygments_lexer": "ipython3",
   "version": "3.7.6"
  }
 },
 "nbformat": 4,
 "nbformat_minor": 4
}
